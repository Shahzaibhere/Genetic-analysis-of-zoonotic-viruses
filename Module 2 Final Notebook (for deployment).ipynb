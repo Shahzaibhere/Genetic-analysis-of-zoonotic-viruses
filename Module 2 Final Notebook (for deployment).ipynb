{
 "cells": [
  {
   "cell_type": "code",
   "execution_count": 24,
   "metadata": {},
   "outputs": [],
   "source": [
    "import pandas as pd\n",
    "import numpy as np\n",
    "import matplotlib.pyplot as plt\n",
    "from sklearn.preprocessing import LabelEncoder\n",
    "from sklearn.model_selection import train_test_split\n",
    "\n",
    "data = pd.read_excel(\"Clean genomic dataset.xlsx\")"
   ]
  },
  {
   "cell_type": "markdown",
   "metadata": {},
   "source": [
    "<h2 id=\"load_dataset\">Virus Zoonotic Potential Model (AdaBoost)</h2>"
   ]
  },
  {
   "cell_type": "code",
   "execution_count": 25,
   "metadata": {},
   "outputs": [],
   "source": [
    "data['Virus family'] = LabelEncoder().fit_transform(data['Virus family'])\n",
    "X = data[['Virus family','vSegmentedTF (True:1)', 'Vector-borne or not (True:1)', 'enveloped/non-enveloped (True:1)', \n",
    "          'DNA(0)/RNA(1)', 'Replication in the cytoplasm (True:1)','Average genome length (Nucleotides)']].values\n",
    "Y = data['Zoonotic or not (True:1)'].values"
   ]
  },
  {
   "cell_type": "code",
   "execution_count": 26,
   "metadata": {},
   "outputs": [],
   "source": [
    "x_train, x_test, y_train, y_test = train_test_split(X, Y, test_size=0.1, random_state=1)"
   ]
  },
  {
   "cell_type": "code",
   "execution_count": 27,
   "metadata": {},
   "outputs": [],
   "source": [
    "from sklearn.ensemble import AdaBoostClassifier\n",
    "from sklearn.metrics import accuracy_score, roc_auc_score"
   ]
  },
  {
   "cell_type": "code",
   "execution_count": 28,
   "metadata": {},
   "outputs": [
    {
     "data": {
      "text/plain": [
       "AdaBoostClassifier(algorithm='SAMME', base_estimator=None, learning_rate=1.0,\n",
       "                   n_estimators=20, random_state=None)"
      ]
     },
     "execution_count": 28,
     "metadata": {},
     "output_type": "execute_result"
    }
   ],
   "source": [
    "M1 = AdaBoostClassifier(n_estimators=20,algorithm='SAMME').fit(x_train,y_train)\n",
    "M1"
   ]
  },
  {
   "cell_type": "code",
   "execution_count": 29,
   "metadata": {},
   "outputs": [],
   "source": [
    "from sklearn.metrics import accuracy_score, roc_auc_score\n",
    "from sklearn.metrics import jaccard_similarity_score\n",
    "from sklearn.metrics import f1_score\n"
   ]
  },
  {
   "cell_type": "code",
   "execution_count": 30,
   "metadata": {},
   "outputs": [
    {
     "name": "stdout",
     "output_type": "stream",
     "text": [
      "Test set ROC_AUC is:  0.7730978260869565\n",
      "Test set Accuracy:  0.8\n",
      "The jaccard score is 0.8\n",
      "The F1 score is 0.7919104369808596\n"
     ]
    },
    {
     "name": "stderr",
     "output_type": "stream",
     "text": [
      "E:\\2020v Anaconda\\lib\\site-packages\\sklearn\\metrics\\_classification.py:664: FutureWarning: jaccard_similarity_score has been deprecated and replaced with jaccard_score. It will be removed in version 0.23. This implementation has surprising behavior for binary and multiclass classification tasks.\n",
      "  FutureWarning)\n"
     ]
    }
   ],
   "source": [
    "yhat=M1.predict(x_test)\n",
    "\n",
    "print(\"Test set ROC_AUC is: \", roc_auc_score(y_test, yhat))\n",
    "print(\"Test set Accuracy: \", accuracy_score(y_test, yhat))\n",
    "print(\"The jaccard score is\", jaccard_similarity_score(y_test, yhat))\n",
    "print('The F1 score is', f1_score(y_test, yhat, average='weighted'))"
   ]
  },
  {
   "cell_type": "markdown",
   "metadata": {},
   "source": [
    "<h2 id=\"load_dataset\">Virus Class Model (KMeans)</h2>"
   ]
  },
  {
   "cell_type": "code",
   "execution_count": 31,
   "metadata": {},
   "outputs": [
    {
     "data": {
      "text/plain": [
       "array([[ 1.42843054, -0.57381904,  1.55809915, -0.64180768,  0.71100272,\n",
       "         0.7051615 , -0.41533527],\n",
       "       [ 0.88096595, -0.57381904, -0.64180768,  1.55809915, -1.40646439,\n",
       "         0.7051615 , -0.57899763],\n",
       "       [ 1.29156439, -0.57381904, -0.64180768, -0.64180768,  0.71100272,\n",
       "        -1.41811485, -0.44185147],\n",
       "       [ 1.15469824,  1.74270968,  1.55809915,  1.55809915,  0.71100272,\n",
       "         0.7051615 , -0.33534937],\n",
       "       [-1.44575855, -0.57381904,  1.55809915, -0.64180768, -1.40646439,\n",
       "         0.7051615 ,  2.30404522]])"
      ]
     },
     "execution_count": 31,
     "metadata": {},
     "output_type": "execute_result"
    }
   ],
   "source": [
    "from sklearn import preprocessing\n",
    "X= preprocessing.StandardScaler().fit(X).transform(X)\n",
    "X[0:5]"
   ]
  },
  {
   "cell_type": "code",
   "execution_count": 32,
   "metadata": {},
   "outputs": [],
   "source": [
    "from sklearn.cluster import KMeans "
   ]
  },
  {
   "cell_type": "code",
   "execution_count": 33,
   "metadata": {},
   "outputs": [
    {
     "data": {
      "text/plain": [
       "KMeans(algorithm='auto', copy_x=True, init='k-means++', max_iter=300,\n",
       "       n_clusters=2, n_init=12, n_jobs=None, precompute_distances='auto',\n",
       "       random_state=None, tol=0.0001, verbose=0)"
      ]
     },
     "execution_count": 33,
     "metadata": {},
     "output_type": "execute_result"
    }
   ],
   "source": [
    "M2 = KMeans(init = \"k-means++\",n_clusters = 2 , n_init = 12).fit(X)\n",
    "M2\n"
   ]
  },
  {
   "cell_type": "markdown",
   "metadata": {},
   "source": [
    "<h1 align=center><font size=\"4\"> Now, these two Supervised and Unsupervised models' weights (M1 in which 1 is for zoonotic and M2 in which 1 is for high risk respectively) are to deployed onto our web portal </font></h1>"
   ]
  }
 ],
 "metadata": {
  "kernelspec": {
   "display_name": "Python 3",
   "language": "python",
   "name": "python3"
  },
  "language_info": {
   "codemirror_mode": {
    "name": "ipython",
    "version": 3
   },
   "file_extension": ".py",
   "mimetype": "text/x-python",
   "name": "python",
   "nbconvert_exporter": "python",
   "pygments_lexer": "ipython3",
   "version": "3.7.6"
  }
 },
 "nbformat": 4,
 "nbformat_minor": 4
}
