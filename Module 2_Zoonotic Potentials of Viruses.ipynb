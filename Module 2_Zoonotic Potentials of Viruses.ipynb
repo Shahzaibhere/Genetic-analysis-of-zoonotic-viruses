{
 "cells": [
  {
   "cell_type": "code",
   "execution_count": 1,
   "metadata": {
    "id": "dKOcE6OuPu-C"
   },
   "outputs": [],
   "source": [
    "import pandas as pd\n",
    "import numpy as np\n",
    "import matplotlib.pyplot as plt\n",
    "\n",
    "from sklearn.preprocessing import LabelEncoder\n",
    "from sklearn.model_selection import train_test_split"
   ]
  },
  {
   "cell_type": "code",
   "execution_count": 2,
   "metadata": {
    "colab": {
     "base_uri": "https://localhost:8080/",
     "height": 266
    },
    "executionInfo": {
     "elapsed": 9583,
     "status": "ok",
     "timestamp": 1602850301296,
     "user": {
      "displayName": "Muhammad Anas Tahir",
      "photoUrl": "",
      "userId": "13750858574426684951"
     },
     "user_tz": -300
    },
    "id": "hIhTNiqdP31_",
    "outputId": "3ffc7229-55bd-4414-83fc-048b1ef9e5f4"
   },
   "outputs": [
    {
     "data": {
      "text/html": [
       "<div>\n",
       "<style scoped>\n",
       "    .dataframe tbody tr th:only-of-type {\n",
       "        vertical-align: middle;\n",
       "    }\n",
       "\n",
       "    .dataframe tbody tr th {\n",
       "        vertical-align: top;\n",
       "    }\n",
       "\n",
       "    .dataframe thead th {\n",
       "        text-align: right;\n",
       "    }\n",
       "</style>\n",
       "<table border=\"1\" class=\"dataframe\">\n",
       "  <thead>\n",
       "    <tr style=\"text-align: right;\">\n",
       "      <th></th>\n",
       "      <th>Virus name</th>\n",
       "      <th>Virus family</th>\n",
       "      <th>DNA(0)/RNA(1)</th>\n",
       "      <th>Virus genus</th>\n",
       "      <th>Average genome length (Nucleotides)</th>\n",
       "      <th>Replication in the cytoplasm (True:1)</th>\n",
       "      <th>Vector-borne or not (True:1)</th>\n",
       "      <th>enveloped/non-enveloped (True:1)</th>\n",
       "      <th>vSegmentedTF (True:1)</th>\n",
       "      <th>Zoonotic or not (True:1)</th>\n",
       "    </tr>\n",
       "  </thead>\n",
       "  <tbody>\n",
       "    <tr>\n",
       "      <th>540</th>\n",
       "      <td>Zaire_ebolavirus</td>\n",
       "      <td>Filoviridae</td>\n",
       "      <td>1</td>\n",
       "      <td>Ebolavirus</td>\n",
       "      <td>18898</td>\n",
       "      <td>1</td>\n",
       "      <td>0</td>\n",
       "      <td>0</td>\n",
       "      <td>0</td>\n",
       "      <td>1</td>\n",
       "    </tr>\n",
       "    <tr>\n",
       "      <th>541</th>\n",
       "      <td>Zika_virus</td>\n",
       "      <td>Flaviviridae</td>\n",
       "      <td>1</td>\n",
       "      <td>Flavivirus</td>\n",
       "      <td>10794</td>\n",
       "      <td>1</td>\n",
       "      <td>1</td>\n",
       "      <td>0</td>\n",
       "      <td>0</td>\n",
       "      <td>1</td>\n",
       "    </tr>\n",
       "    <tr>\n",
       "      <th>542</th>\n",
       "      <td>Sars-cov-2</td>\n",
       "      <td>Coronaviridae</td>\n",
       "      <td>1</td>\n",
       "      <td>Betacoronavirus</td>\n",
       "      <td>29811</td>\n",
       "      <td>1</td>\n",
       "      <td>0</td>\n",
       "      <td>0</td>\n",
       "      <td>0</td>\n",
       "      <td>1</td>\n",
       "    </tr>\n",
       "    <tr>\n",
       "      <th>543</th>\n",
       "      <td>H1N1</td>\n",
       "      <td>Orthomyxovirida</td>\n",
       "      <td>1</td>\n",
       "      <td>Alphainfluenzavirus</td>\n",
       "      <td>2341</td>\n",
       "      <td>1</td>\n",
       "      <td>0</td>\n",
       "      <td>1</td>\n",
       "      <td>1</td>\n",
       "      <td>1</td>\n",
       "    </tr>\n",
       "    <tr>\n",
       "      <th>544</th>\n",
       "      <td>Mers-Cov</td>\n",
       "      <td>Coronaviridae</td>\n",
       "      <td>1</td>\n",
       "      <td>Betacoronavirus</td>\n",
       "      <td>30000</td>\n",
       "      <td>1</td>\n",
       "      <td>0</td>\n",
       "      <td>1</td>\n",
       "      <td>0</td>\n",
       "      <td>1</td>\n",
       "    </tr>\n",
       "  </tbody>\n",
       "</table>\n",
       "</div>"
      ],
      "text/plain": [
       "           Virus name      Virus family  DNA(0)/RNA(1)          Virus genus  \\\n",
       "540  Zaire_ebolavirus       Filoviridae              1           Ebolavirus   \n",
       "541        Zika_virus      Flaviviridae              1           Flavivirus   \n",
       "542        Sars-cov-2     Coronaviridae              1      Betacoronavirus   \n",
       "543              H1N1   Orthomyxovirida              1  Alphainfluenzavirus   \n",
       "544          Mers-Cov     Coronaviridae              1      Betacoronavirus   \n",
       "\n",
       "     Average genome length (Nucleotides)  \\\n",
       "540                                18898   \n",
       "541                                10794   \n",
       "542                                29811   \n",
       "543                                 2341   \n",
       "544                                30000   \n",
       "\n",
       "     Replication in the cytoplasm (True:1)  Vector-borne or not (True:1)  \\\n",
       "540                                      1                             0   \n",
       "541                                      1                             1   \n",
       "542                                      1                             0   \n",
       "543                                      1                             0   \n",
       "544                                      1                             0   \n",
       "\n",
       "     enveloped/non-enveloped (True:1)  vSegmentedTF (True:1)  \\\n",
       "540                                 0                      0   \n",
       "541                                 0                      0   \n",
       "542                                 0                      0   \n",
       "543                                 1                      1   \n",
       "544                                 1                      0   \n",
       "\n",
       "     Zoonotic or not (True:1)  \n",
       "540                         1  \n",
       "541                         1  \n",
       "542                         1  \n",
       "543                         1  \n",
       "544                         1  "
      ]
     },
     "execution_count": 2,
     "metadata": {},
     "output_type": "execute_result"
    }
   ],
   "source": [
    "data = pd.read_excel(\"Clean genomic dataset.xlsx\")\n",
    "\n",
    "data.tail(5)"
   ]
  },
  {
   "cell_type": "code",
   "execution_count": 3,
   "metadata": {
    "id": "s6b4KF8MNKNq"
   },
   "outputs": [],
   "source": [
    "data['Virus family'] = LabelEncoder().fit_transform(data['Virus family'])"
   ]
  },
  {
   "cell_type": "code",
   "execution_count": 4,
   "metadata": {
    "id": "IG21Wb-YSKhR"
   },
   "outputs": [],
   "source": [
    "X = data[['Virus family','vSegmentedTF (True:1)', 'Vector-borne or not (True:1)', 'enveloped/non-enveloped (True:1)', \n",
    "          'DNA(0)/RNA(1)', 'Replication in the cytoplasm (True:1)','Average genome length (Nucleotides)']].values\n",
    "Y = data['Zoonotic or not (True:1)'].values\n",
    "\n",
    "x_train, x_test, y_train, y_test = train_test_split(X, Y, test_size=0.1, random_state=1)"
   ]
  },
  {
   "cell_type": "code",
   "execution_count": 5,
   "metadata": {
    "colab": {
     "base_uri": "https://localhost:8080/",
     "height": 265
    },
    "executionInfo": {
     "elapsed": 1673,
     "status": "ok",
     "timestamp": 1602850997059,
     "user": {
      "displayName": "Muhammad Anas Tahir",
      "photoUrl": "",
      "userId": "13750858574426684951"
     },
     "user_tz": -300
    },
    "id": "FVzdMq0FyhHx",
    "outputId": "27f0f465-4db9-4884-d4d0-a63a29856509"
   },
   "outputs": [
    {
     "data": {
      "image/png": "[encoded data removed]",
      "text/plain": [
       "<Figure size 432x288 with 1 Axes>"
      ]
     },
     "metadata": {
      "needs_background": "light"
     },
     "output_type": "display_data"
    }
   ],
   "source": [
    "plt.bar(height=[np.sum(y_train), len(y_train)- np.sum(y_train)], x=['1', '0'])\n",
    "plt.show()"
   ]
  },
  {
   "cell_type": "code",
   "execution_count": 6,
   "metadata": {
    "colab": {
     "base_uri": "https://localhost:8080/",
     "height": 34
    },
    "executionInfo": {
     "elapsed": 1515,
     "status": "ok",
     "timestamp": 1602850999452,
     "user": {
      "displayName": "Muhammad Anas Tahir",
      "photoUrl": "",
      "userId": "13750858574426684951"
     },
     "user_tz": -300
    },
    "id": "hqiUwU_zy5Mx",
    "outputId": "d06e2f0c-36f9-49b6-b418-7b9cd675cdb4"
   },
   "outputs": [
    {
     "data": {
      "text/plain": [
       "0.6775510204081633"
      ]
     },
     "execution_count": 6,
     "metadata": {},
     "output_type": "execute_result"
    }
   ],
   "source": [
    "(len(y_train)- np.sum(y_train))/len(y_train)"
   ]
  },
  {
   "cell_type": "markdown",
   "metadata": {
    "id": "eIgrsSIaRCl1"
   },
   "source": [
    "### Modelling"
   ]
  },
  {
   "cell_type": "markdown",
   "metadata": {
    "id": "VImE-w2HyRhy"
   },
   "source": [
    "###### Machine learning algorithms"
   ]
  },
  {
   "cell_type": "code",
   "execution_count": 7,
   "metadata": {
    "id": "6buNVUUiP7fZ"
   },
   "outputs": [],
   "source": [
    "#importing libraries for ML and performance measures\n",
    "\n",
    "from sklearn.model_selection import GridSearchCV\n",
    "from sklearn.pipeline import Pipeline\n",
    "from sklearn.svm import SVC\n",
    "from sklearn.linear_model import LogisticRegression\n",
    "from sklearn.tree import DecisionTreeClassifier\n",
    "from sklearn.neural_network import MLPClassifier\n",
    "from sklearn.neighbors import KNeighborsClassifier\n",
    "from sklearn.ensemble import RandomForestClassifier, AdaBoostClassifier, GradientBoostingClassifier\n",
    "from sklearn.gaussian_process import GaussianProcessClassifier\n",
    "from sklearn.naive_bayes import GaussianNB\n",
    "\n",
    "\n",
    "from sklearn.metrics import accuracy_score, roc_auc_score\n",
    "\n",
    "import warnings\n",
    "warnings.filterwarnings(\"ignore\")"
   ]
  },
  {
   "cell_type": "code",
   "execution_count": 8,
   "metadata": {
    "colab": {
     "base_uri": "https://localhost:8080/",
     "height": 353
    },
    "executionInfo": {
     "elapsed": 1086340,
     "status": "ok",
     "timestamp": 1602852087449,
     "user": {
      "displayName": "Muhammad Anas Tahir",
      "photoUrl": "",
      "userId": "13750858574426684951"
     },
     "user_tz": -300
    },
    "id": "1Fr_3OsTRfNz",
    "outputId": "59a99848-15cc-48b9-c8e3-0142488a5aae"
   },
   "outputs": [
    {
     "name": "stdout",
     "output_type": "stream",
     "text": [
      "Perceptron : {'activation': 'tanh', 'alpha': 0.0001, 'hidden_layer_sizes': 10, 'max_iter': 100}\n",
      "Accuracy: 0.582 ROC_AUC: 0.500\n",
      "Decision Tree : {'criterion': 'entropy', 'min_samples_split': 20, 'splitter': 'random'}\n",
      "Accuracy: 0.727 ROC_AUC: 0.686\n",
      "Random Forest : {'criterion': 'gini', 'n_estimators': 100}\n",
      "Accuracy: 0.673 ROC_AUC: 0.633\n",
      "KNN : {'algorithm': 'auto', 'n_neighbors': 15, 'weights': 'distance'}\n",
      "Accuracy: 0.673 ROC_AUC: 0.639\n",
      "AdaBoost : {'algorithm': 'SAMME', 'n_estimators': 20}\n",
      "Accuracy: 0.800 ROC_AUC: 0.773\n",
      "Gaussian : {}\n",
      "Accuracy: 0.655 ROC_AUC: 0.618\n",
      "Naive Bayes : {}\n",
      "Accuracy: 0.582 ROC_AUC: 0.506\n",
      "SVM : {'C': 1, 'kernel': 'poly'}\n",
      "Accuracy: 0.582 ROC_AUC: 0.500\n",
      "LR : {}\n",
      "Accuracy: 0.582 ROC_AUC: 0.500\n",
      "XG Boost : {}\n",
      "Accuracy: 0.691 ROC_AUC: 0.655\n"
     ]
    }
   ],
   "source": [
    "#Modelling the data, multiple ML models were used and Grid seacrh was used to seacrh for the best parameters for those models \n",
    "#Accuracy was used as performance measure\n",
    "\n",
    "def ML_modeling(models, params, X_train, X_test, y_train, y_test):    \n",
    "    \n",
    "    if not set(models.keys()).issubset(set(params.keys())):\n",
    "        raise ValueError('Some estimators are missing parameters')\n",
    "\n",
    "    for key in models.keys():\n",
    "        model = models[key]\n",
    "        param = params[key]\n",
    "        gs = GridSearchCV(model, param, cv=5, error_score=0, refit=True, scoring = 'accuracy')\n",
    "        gs.fit(X_train, y_train)\n",
    "        y_pred = gs.predict(X_test)\n",
    "        \n",
    "        # Print scores for the classifier\n",
    "        print(key, ':', gs.best_params_)\n",
    "        print(\"Accuracy: %1.3f ROC_AUC: %1.3f\" % (accuracy_score(y_test, y_pred), roc_auc_score(y_test, y_pred)))\n",
    "    \n",
    "    return\n",
    "\n",
    "models = {\n",
    "    'Perceptron': MLPClassifier(),\n",
    "    'Decision Tree': DecisionTreeClassifier(),  \n",
    "    'Random Forest': RandomForestClassifier(),\n",
    "    'KNN': KNeighborsClassifier(),\n",
    "    'AdaBoost': AdaBoostClassifier(),\n",
    "    'Gaussian': GaussianProcessClassifier(),\n",
    "    'Naive Bayes': GaussianNB(),\n",
    "    'SVM': SVC(),\n",
    "    'LR': LogisticRegression(),\n",
    "    'XG Boost': GradientBoostingClassifier()\n",
    "}\n",
    "\n",
    "params = {\n",
    "    'SVM' : {'C': [1, 10], 'kernel': [\"linear\", \"poly\", \"rbf\", \"sigmoid\"]},\n",
    "    'Decision Tree': {'min_samples_split': [15, 20, 25, 30], 'criterion': [\"gini\",\"entropy\"], \"splitter\": [\"random\", \"best\"] }, \n",
    "    'Perceptron': {'alpha': [0.0001, 0.001], 'activation': ['tanh', 'logistic', 'relu'], 'hidden_layer_sizes': [10, 50, 5], 'max_iter': [100, 200, 500] },\n",
    "    'Random Forest': {'n_estimators': [100, 300], 'criterion': [\"gini\",\"entropy\"]},\n",
    "    'KNN': {'n_neighbors': [5,10,15], 'weights':['uniform', 'distance'], 'algorithm' : ['auto', 'ball_tree', 'kd_tree', 'brute']},\n",
    "    'AdaBoost': {'n_estimators': [20, 50, 100], 'algorithm': ['SAMME', 'SAMME.R']},\n",
    "    'Gaussian': {},\n",
    "    'Naive Bayes': {},\n",
    "    'XG Boost' : {},\n",
    "    'LR': {}\n",
    "}\n",
    "\n",
    "ML_modeling(models, params, x_train, x_test, y_train, y_test)"
   ]
  },
  {
   "cell_type": "markdown",
   "metadata": {
    "id": "OOyxlIwvNKN_"
   },
   "source": [
    "##### Deep Learning"
   ]
  },
  {
   "cell_type": "code",
   "execution_count": 9,
   "metadata": {
    "id": "HDxR8MYTNKN_"
   },
   "outputs": [],
   "source": [
    "import tensorflow as tf"
   ]
  },
  {
   "cell_type": "code",
   "execution_count": 10,
   "metadata": {
    "id": "j4LZxUAqU2EU"
   },
   "outputs": [],
   "source": [
    "i = tf.keras.layers.Input(shape=x_train.shape[1])\n",
    "\n",
    "x = tf.keras.layers.Dense(64, activation='relu')(i)\n",
    "\n",
    "x = tf.keras.layers.Dense(32, activation='relu')(x)\n",
    "\n",
    "y = tf.keras.layers.Dense(1, activation='sigmoid')(x)\n",
    "\n",
    "mlp = tf.keras.models.Model(i, y, name='mlp')\n",
    "\n",
    "mlp.compile('adam', 'binary_crossentropy', metrics=['accuracy', tf.keras.metrics.AUC()])"
   ]
  },
  {
   "cell_type": "code",
   "execution_count": 11,
   "metadata": {
    "colab": {
     "base_uri": "https://localhost:8080/",
     "height": 1000
    },
    "executionInfo": {
     "elapsed": 8239,
     "status": "ok",
     "timestamp": 1602853130333,
     "user": {
      "displayName": "Muhammad Anas Tahir",
      "photoUrl": "",
      "userId": "13750858574426684951"
     },
     "user_tz": -300
    },
    "id": "PcOs8AGdVJTq",
    "outputId": "6f7e5ede-db1b-46b5-988c-95a82a4389fd"
   },
   "outputs": [
    {
     "name": "stdout",
     "output_type": "stream",
     "text": [
      "Epoch 1/50\n",
      "62/62 [==============================] - 0s 2ms/step - loss: 1086.7284 - accuracy: 0.5755 - auc: 0.5035\n",
      "Epoch 2/50\n",
      "62/62 [==============================] - 0s 1ms/step - loss: 47.0177 - accuracy: 0.6286 - auc: 0.5267\n",
      "Epoch 3/50\n",
      "62/62 [==============================] - 0s 1ms/step - loss: 41.0935 - accuracy: 0.6184 - auc: 0.5002  \n",
      "Epoch 4/50\n",
      "62/62 [==============================] - 0s 1ms/step - loss: 32.2779 - accuracy: 0.5531 - auc: 0.4739\n",
      "Epoch 5/50\n",
      "62/62 [==============================] - 0s 967us/step - loss: 36.7262 - accuracy: 0.6000 - auc: 0.5075\n",
      "Epoch 6/50\n",
      "62/62 [==============================] - 0s 1ms/step - loss: 38.9304 - accuracy: 0.5694 - auc: 0.4761\n",
      "Epoch 7/50\n",
      "62/62 [==============================] - 0s 1ms/step - loss: 62.7128 - accuracy: 0.5857 - auc: 0.4905\n",
      "Epoch 8/50\n",
      "62/62 [==============================] - 0s 1ms/step - loss: 58.6772 - accuracy: 0.5714 - auc: 0.4861\n",
      "Epoch 9/50\n",
      "62/62 [==============================] - 0s 1ms/step - loss: 83.1749 - accuracy: 0.6204 - auc: 0.5209\n",
      "Epoch 10/50\n",
      "62/62 [==============================] - 0s 983us/step - loss: 63.5815 - accuracy: 0.5816 - auc: 0.4895\n",
      "Epoch 11/50\n",
      "62/62 [==============================] - 0s 951us/step - loss: 24.6641 - accuracy: 0.6143 - auc: 0.5379\n",
      "Epoch 12/50\n",
      "62/62 [==============================] - 0s 1ms/step - loss: 84.7485 - accuracy: 0.5837 - auc: 0.4865\n",
      "Epoch 13/50\n",
      "62/62 [==============================] - 0s 1ms/step - loss: 70.5245 - accuracy: 0.6184 - auc: 0.5211\n",
      "Epoch 14/50\n",
      "62/62 [==============================] - 0s 1ms/step - loss: 53.6186 - accuracy: 0.6020 - auc: 0.5144\n",
      "Epoch 15/50\n",
      "62/62 [==============================] - 0s 1ms/step - loss: 21.9717 - accuracy: 0.5653 - auc: 0.4539  \n",
      "Epoch 16/50\n",
      "62/62 [==============================] - 0s 1ms/step - loss: 49.3698 - accuracy: 0.6000 - auc: 0.5327\n",
      "Epoch 17/50\n",
      "62/62 [==============================] - 0s 951us/step - loss: 24.2082 - accuracy: 0.6041 - auc: 0.5208\n",
      "Epoch 18/50\n",
      "62/62 [==============================] - 0s 951us/step - loss: 61.1053 - accuracy: 0.6184 - auc: 0.5111\n",
      "Epoch 19/50\n",
      "62/62 [==============================] - 0s 1ms/step - loss: 73.2684 - accuracy: 0.6061 - auc: 0.5028\n",
      "Epoch 20/50\n",
      "62/62 [==============================] - 0s 1ms/step - loss: 26.9625 - accuracy: 0.5327 - auc: 0.4872\n",
      "Epoch 21/50\n",
      "62/62 [==============================] - 0s 951us/step - loss: 32.6336 - accuracy: 0.5816 - auc: 0.5529\n",
      "Epoch 22/50\n",
      "62/62 [==============================] - 0s 1ms/step - loss: 103.4456 - accuracy: 0.6061 - auc: 0.4973\n",
      "Epoch 23/50\n",
      "62/62 [==============================] - 0s 983us/step - loss: 69.8174 - accuracy: 0.5694 - auc: 0.4568\n",
      "Epoch 24/50\n",
      "62/62 [==============================] - 0s 951us/step - loss: 184.8987 - accuracy: 0.6122 - auc: 0.4888\n",
      "Epoch 25/50\n",
      "62/62 [==============================] - 0s 1ms/step - loss: 56.7570 - accuracy: 0.6122 - auc: 0.5119\n",
      "Epoch 26/50\n",
      "62/62 [==============================] - 0s 1ms/step - loss: 23.7048 - accuracy: 0.5857 - auc: 0.5154\n",
      "Epoch 27/50\n",
      "62/62 [==============================] - 0s 1ms/step - loss: 34.2290 - accuracy: 0.5735 - auc: 0.4825\n",
      "Epoch 28/50\n",
      "62/62 [==============================] - 0s 1ms/step - loss: 82.6766 - accuracy: 0.5857 - auc: 0.5103\n",
      "Epoch 29/50\n",
      "62/62 [==============================] - 0s 999us/step - loss: 34.7589 - accuracy: 0.5735 - auc: 0.4990\n",
      "Epoch 30/50\n",
      "62/62 [==============================] - 0s 1ms/step - loss: 42.3498 - accuracy: 0.5837 - auc: 0.4950\n",
      "Epoch 31/50\n",
      "62/62 [==============================] - 0s 1ms/step - loss: 46.7721 - accuracy: 0.5837 - auc: 0.5190\n",
      "Epoch 32/50\n",
      "62/62 [==============================] - 0s 1ms/step - loss: 73.6875 - accuracy: 0.5980 - auc: 0.5148\n",
      "Epoch 33/50\n",
      "62/62 [==============================] - 0s 983us/step - loss: 74.9960 - accuracy: 0.5959 - auc: 0.5065\n",
      "Epoch 34/50\n",
      "62/62 [==============================] - 0s 999us/step - loss: 39.8659 - accuracy: 0.6000 - auc: 0.5141\n",
      "Epoch 35/50\n",
      "62/62 [==============================] - 0s 967us/step - loss: 44.8096 - accuracy: 0.5347 - auc: 0.4684\n",
      "Epoch 36/50\n",
      "62/62 [==============================] - 0s 983us/step - loss: 69.2420 - accuracy: 0.6000 - auc: 0.5023\n",
      "Epoch 37/50\n",
      "62/62 [==============================] - 0s 1ms/step - loss: 35.6691 - accuracy: 0.5878 - auc: 0.5105\n",
      "Epoch 38/50\n",
      "62/62 [==============================] - 0s 1ms/step - loss: 52.9721 - accuracy: 0.6000 - auc: 0.5155\n",
      "Epoch 39/50\n",
      "62/62 [==============================] - 0s 1ms/step - loss: 60.6864 - accuracy: 0.5837 - auc: 0.5094\n",
      "Epoch 40/50\n",
      "62/62 [==============================] - 0s 1ms/step - loss: 49.8585 - accuracy: 0.5939 - auc: 0.5067\n",
      "Epoch 41/50\n",
      "62/62 [==============================] - 0s 757us/step - loss: 54.5578 - accuracy: 0.5878 - auc: 0.5146\n",
      "Epoch 42/50\n",
      "62/62 [==============================] - 0s 741us/step - loss: 24.1074 - accuracy: 0.5245 - auc: 0.4833\n",
      "Epoch 43/50\n",
      "62/62 [==============================] - 0s 758us/step - loss: 23.7271 - accuracy: 0.5531 - auc: 0.5150\n",
      "Epoch 44/50\n",
      "62/62 [==============================] - 0s 1ms/step - loss: 42.1231 - accuracy: 0.6000 - auc: 0.5386\n",
      "Epoch 45/50\n",
      "62/62 [==============================] - 0s 1ms/step - loss: 50.4963 - accuracy: 0.5816 - auc: 0.4789\n",
      "Epoch 46/50\n",
      "62/62 [==============================] - 0s 1ms/step - loss: 23.1746 - accuracy: 0.6000 - auc: 0.5455\n",
      "Epoch 47/50\n",
      "62/62 [==============================] - 0s 1ms/step - loss: 41.9489 - accuracy: 0.5796 - auc: 0.5033\n",
      "Epoch 48/50\n",
      "62/62 [==============================] - 0s 1ms/step - loss: 23.5553 - accuracy: 0.5755 - auc: 0.4844\n",
      "Epoch 49/50\n",
      "62/62 [==============================] - 0s 1ms/step - loss: 18.2792 - accuracy: 0.5633 - auc: 0.4982\n",
      "Epoch 50/50\n",
      "62/62 [==============================] - 0s 999us/step - loss: 27.6956 - accuracy: 0.5612 - auc: 0.4817\n"
     ]
    },
    {
     "data": {
      "text/plain": [
       "<tensorflow.python.keras.callbacks.History at 0x261d297a348>"
      ]
     },
     "execution_count": 11,
     "metadata": {},
     "output_type": "execute_result"
    }
   ],
   "source": [
    "mlp.fit(x_train, y_train, batch_size=8, epochs=50)"
   ]
  },
  {
   "cell_type": "code",
   "execution_count": 12,
   "metadata": {
    "colab": {
     "base_uri": "https://localhost:8080/",
     "height": 87
    },
    "executionInfo": {
     "elapsed": 1734,
     "status": "ok",
     "timestamp": 1602853133765,
     "user": {
      "displayName": "Muhammad Anas Tahir",
      "photoUrl": "",
      "userId": "13750858574426684951"
     },
     "user_tz": -300
    },
    "id": "ogYDQCdsVKEF",
    "outputId": "3531c83c-e6fe-4cd5-d133-5cf8fe59a764"
   },
   "outputs": [
    {
     "name": "stdout",
     "output_type": "stream",
     "text": [
      "2/2 [==============================] - 0s 1ms/step - loss: 18.1396 - accuracy: 0.5818 - auc: 0.4531\n"
     ]
    },
    {
     "data": {
      "text/plain": [
       "[18.139596939086914, 0.581818163394928, 0.453125]"
      ]
     },
     "execution_count": 12,
     "metadata": {},
     "output_type": "execute_result"
    }
   ],
   "source": [
    "mlp.evaluate(x_test, y_test)"
   ]
  },
  {
   "cell_type": "markdown",
   "metadata": {
    "id": "5VmMBE8vyeuT"
   },
   "source": [
    "#### Conclusion"
   ]
  },
  {
   "cell_type": "markdown",
   "metadata": {
    "id": "f9IloeS5zDAq"
   },
   "source": [
    "\n",
    "\n",
    "Since there is imbalance in class distribution, we use ROC_AUC metric to check the performance of the algorithm. Higher the ROC_AUC metric better the performance. \n",
    "\n",
    "1.  With ML algorithms adaboost achieves the best ROC_AUC score of 0.78 with an accuracy of 80%.\n",
    "\n",
    "2.  With DL we achieve the ROC_AUC score of 0.45 with an accuracy of 58%.\n",
    " \n"
   ]
  }
 ],
 "metadata": {
  "colab": {
   "collapsed_sections": [],
   "name": "Modelling 1b_Genomic latest.ipynb",
   "provenance": [],
   "toc_visible": true
  },
  "kernelspec": {
   "display_name": "Python 3",
   "language": "python",
   "name": "python3"
  },
  "language_info": {
   "codemirror_mode": {
    "name": "ipython",
    "version": 3
   },
   "file_extension": ".py",
   "mimetype": "text/x-python",
   "name": "python",
   "nbconvert_exporter": "python",
   "pygments_lexer": "ipython3",
   "version": "3.7.6"
  }
 },
 "nbformat": 4,
 "nbformat_minor": 1
}
